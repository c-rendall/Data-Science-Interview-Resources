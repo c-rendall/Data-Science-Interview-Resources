{
 "cells": [
  {
   "cell_type": "markdown",
   "metadata": {},
   "source": [
    "This is an assortment of data science interview string practice problems that I have found across the Internet.  "
   ]
  },
  {
   "cell_type": "markdown",
   "metadata": {},
   "source": [
    "### 1. Count capital letters\n",
    "\n",
    "Write a function to read in a file and count the number of capital letters conatined in the file. "
   ]
  },
  {
   "cell_type": "code",
   "execution_count": 1,
   "metadata": {},
   "outputs": [],
   "source": [
    "def capital_count(file):\n",
    "    with open(file) as infile:\n",
    "        count = 0\n",
    "        for line in infile: \n",
    "            for char in line: \n",
    "                if char.isupper():\n",
    "                    count += 1\n",
    "    return count"
   ]
  },
  {
   "cell_type": "markdown",
   "metadata": {},
   "source": [
    "In this solution, we use `with open()` to read the file in without allocating memory.  We then initialize the capital letter count and set it to 0.  We create two `for` loops to scan each line in the file and then each character in the line.  The key string method here is `isupper()`, which evaluates to `True` or `False`.  If `True`, we increase our count by 1, and finally, return the count.  We can write this same expression much more compactly using a generator comprehension:"
   ]
  },
  {
   "cell_type": "code",
   "execution_count": 2,
   "metadata": {},
   "outputs": [],
   "source": [
    "# count = sum(1 if char.isupper() else 0 for line in file for character in line)"
   ]
  },
  {
   "cell_type": "markdown",
   "metadata": {},
   "source": [
    "### 2. Print duplicate characters "
   ]
  },
  {
   "cell_type": "markdown",
   "metadata": {},
   "source": [
    "Given two strings, write code to print overlapping letters in alphabetical order.  If there is no overlap between the two strings, you can print 'no overlap'."
   ]
  },
  {
   "cell_type": "code",
   "execution_count": 3,
   "metadata": {},
   "outputs": [],
   "source": [
    "def overlapping(string1, string2):\n",
    "    overlaps = []\n",
    "    for i in range(len(string1)):\n",
    "        if string1[i] == string2[i]:\n",
    "            overlaps.append(string1[i])\n",
    "    return sorted(overlaps)"
   ]
  },
  {
   "cell_type": "code",
   "execution_count": 4,
   "metadata": {},
   "outputs": [
    {
     "data": {
      "text/plain": [
       "['h', 'o']"
      ]
     },
     "execution_count": 4,
     "metadata": {},
     "output_type": "execute_result"
    }
   ],
   "source": [
    "overlapping('house', 'homes')"
   ]
  },
  {
   "cell_type": "markdown",
   "metadata": {},
   "source": [
    "### 3. First recurring character"
   ]
  },
  {
   "cell_type": "markdown",
   "metadata": {},
   "source": [
    "Given a string, return the first recurring character in it, or None if there is no recurring character. "
   ]
  },
  {
   "cell_type": "code",
   "execution_count": 5,
   "metadata": {},
   "outputs": [],
   "source": [
    "def recurring_char(string1):\n",
    "    seen = set()\n",
    "    for char in string1:\n",
    "        if char in seen:\n",
    "            return char\n",
    "        else:\n",
    "            seen.add(char)\n",
    "    return None "
   ]
  },
  {
   "cell_type": "code",
   "execution_count": 6,
   "metadata": {},
   "outputs": [
    {
     "data": {
      "text/plain": [
       "'e'"
      ]
     },
     "execution_count": 6,
     "metadata": {},
     "output_type": "execute_result"
    }
   ],
   "source": [
    "recurring_char('enumerate')"
   ]
  },
  {
   "cell_type": "markdown",
   "metadata": {},
   "source": [
    "This is a simple problem that tests whether someone understands sets.  A set in Python is not allowed to contain duplicates.  So we first start by creating an empty set called `seen`.  We create a `for` loop to loop through each character in the string, and check if the character is in our set.  If it is, then we return the character, since the set cannot contain duplicates.  Otherwise, we add the character to the set.  If the loop finishes and nothing has been returned, we return `None`.  "
   ]
  },
  {
   "cell_type": "markdown",
   "metadata": {},
   "source": [
    "### 4. Bigrams "
   ]
  },
  {
   "cell_type": "markdown",
   "metadata": {},
   "source": [
    "Write a function that can take a string and return a list of bigrams.  Bigrams are defined as a pair of words for each consecutive word in the string. "
   ]
  },
  {
   "cell_type": "code",
   "execution_count": 7,
   "metadata": {},
   "outputs": [],
   "source": [
    "def find_bigrams(string1):\n",
    "    import re\n",
    "    cleaned_string = re.sub(\"[^0-9a-zA-Z]+\", \" \", string1)\n",
    "    words = cleaned_string.strip().split(' ')\n",
    "    bigrams = []\n",
    "    for i in range(len(words) - 1): \n",
    "        bigrams.append((words[i].lower(), words[i+1].lower()))\n",
    "    return bigrams"
   ]
  },
  {
   "cell_type": "code",
   "execution_count": 8,
   "metadata": {},
   "outputs": [
    {
     "data": {
      "text/plain": [
       "[('have', 'free'),\n",
       " ('free', 'hours'),\n",
       " ('hours', 'and'),\n",
       " ('and', 'love'),\n",
       " ('love', 'children')]"
      ]
     },
     "execution_count": 8,
     "metadata": {},
     "output_type": "execute_result"
    }
   ],
   "source": [
    "find_bigrams('Have free ! hours and love children?')"
   ]
  },
  {
   "cell_type": "markdown",
   "metadata": {},
   "source": [
    "This problem is a great combination of many of the tools we need when dealing with strings in Python.  We need to generate a list of bigrams from the input string, which presumably is some long sentence.  Since all we care about are the words and not the symbols or punctuation, we need to first remove all unnecessary symbols.  We an accomplish this by using a regular expression on the string to replace it with an empty space.  We save this as `cleaned_string`.  We then take the cleaned string and use `strip()` to remove the empty whitespace from the ends and `split(' ')` to split it by space.  We create an empty list called `bigrams` to store our bigrams.  We then loop through the length of the word list, minus one, since we only want to pair each bigram with the word that comes after one.  We append the tuple consisting of `words[i]` and `words[i+1]`, while also using `lower()` to make them lower-case.  Finally, we return the list of `bigrams`"
   ]
  },
  {
   "cell_type": "markdown",
   "metadata": {},
   "source": [
    "### 5. Is a substring? "
   ]
  },
  {
   "cell_type": "markdown",
   "metadata": {},
   "source": [
    "Given two strings, string1 and string2, check if string1 is a subsequence of string2.  A string is a subsequence of another if the characters are contained of the first are also in the second, and also in the same order starting from the beginning, with extra characters allowed in the second string between the characters of the first string. "
   ]
  },
  {
   "cell_type": "code",
   "execution_count": 9,
   "metadata": {},
   "outputs": [],
   "source": [
    "def isSubsequence(string1, string2):\n",
    "    j = 0\n",
    "    i = 0\n",
    "    \n",
    "    m = len(string1)\n",
    "    n = len(string2)\n",
    "    \n",
    "    while j < m and i < n:\n",
    "        if string1[j] == string2[i]:\n",
    "            j = j + 1\n",
    "        i = i + 1\n",
    "    return j == m"
   ]
  },
  {
   "cell_type": "code",
   "execution_count": 10,
   "metadata": {},
   "outputs": [
    {
     "data": {
      "text/plain": [
       "True"
      ]
     },
     "execution_count": 10,
     "metadata": {},
     "output_type": "execute_result"
    }
   ],
   "source": [
    "isSubsequence('abc', 'asbsc')"
   ]
  },
  {
   "cell_type": "markdown",
   "metadata": {},
   "source": [
    "In this problem, we have `string1` and `string2`.  We need to check whether `string1` is a subsequence of the second.  We start by initializing the index for both strings at zero.  The plan is to traverse the length of each string and check whether they match for a given index. We traverse the strings from left to right.  If we find a matching character, we move ahead in both.  Otherwise, we only move ahead in `string2`.  "
   ]
  },
  {
   "cell_type": "markdown",
   "metadata": {},
   "source": [
    "### 7. N most frequent words"
   ]
  },
  {
   "cell_type": "markdown",
   "metadata": {},
   "source": [
    "Given a paragraph string and integer n, write a function to return the top N frequent words and the frequency for each word.  What is the run-time? "
   ]
  },
  {
   "cell_type": "code",
   "execution_count": 11,
   "metadata": {},
   "outputs": [],
   "source": [
    "def top_n(posting, n):\n",
    "    import re\n",
    "    cleaned_string = re.sub(\"[^0-9a-zA-Z]+\", \" \", posting)\n",
    "    words = cleaned_string.strip().split(' ')\n",
    "    hashmap = {}\n",
    "    for word in words: \n",
    "        if word in hashmap.keys(): \n",
    "            hashmap[word] += 1\n",
    "        else:\n",
    "            hashmap[word] = 1\n",
    "    values = sorted(hashmap.items(), key=lambda x: x[1], reverse=True)\n",
    "    return values[:n]"
   ]
  },
  {
   "cell_type": "code",
   "execution_count": 12,
   "metadata": {},
   "outputs": [
    {
     "data": {
      "text/plain": [
       "[('I', 4), ('the', 4), ('store', 3)]"
      ]
     },
     "execution_count": 12,
     "metadata": {},
     "output_type": "execute_result"
    }
   ],
   "source": [
    "paragraph = \"\"\"Yesterday I went to the store.  I bought eggs, milk, and butter.  The \n",
    "eggs were delicious.  I made a cake using the butter and drank the milk with it.  \n",
    "I will go to the store again next week.  There is a new store by my house.\"\"\"\n",
    "top_n(paragraph, 3)"
   ]
  },
  {
   "cell_type": "markdown",
   "metadata": {},
   "source": [
    "In this problem, we first remove all special characters and strip and split the paragraph to get the individual words.  We create an empty dictionary called `hashmap` to store the word count.  We loop through our word list and if the word is in the keys of `hashmap`, we increase `hashmap[word]` by 1.  Otherwise, we set `hashmap[word]` equal to 1.  We then get the sorted values of `hashmap` with `reverse=True` to get them from greatest to least and return the values up to `n`. "
   ]
  },
  {
   "cell_type": "markdown",
   "metadata": {},
   "source": [
    "### 8. Stop words "
   ]
  },
  {
   "cell_type": "markdown",
   "metadata": {},
   "source": [
    "Given a list of stop words, write a function that takes a string and returns a string stripped of the stop words. "
   ]
  },
  {
   "cell_type": "code",
   "execution_count": 13,
   "metadata": {},
   "outputs": [],
   "source": [
    "def stop_words(stop_words, string):\n",
    "    import re \n",
    "    cleaned_string = re.sub(\"[^0-9a-zA-Z]+\", \" \", string)\n",
    "    words = cleaned_string.lower().split()\n",
    "    stop_set = set(stop_words)\n",
    "    new_string = []\n",
    "    \n",
    "    for word in words: \n",
    "        if word not in stop_set: \n",
    "            new_string.append(word)\n",
    "    return ' '.join(new_string)"
   ]
  },
  {
   "cell_type": "code",
   "execution_count": 14,
   "metadata": {},
   "outputs": [
    {
     "data": {
      "text/plain": [
       "'the plays in the yard a drives by'"
      ]
     },
     "execution_count": 14,
     "metadata": {},
     "output_type": "execute_result"
    }
   ],
   "source": [
    "stop_words(['car', 'dog'], 'The dog plays in the yard.  A car drives by!')"
   ]
  },
  {
   "cell_type": "markdown",
   "metadata": {},
   "source": [
    "In this problem, like with many other string problems, we take our sentence and use regular expressions to clean it, then lower and split it. Once we get the cleaned, individual words, we need to check whether there are any stop words in it.  We could just check for their existence directly from the list of stop words, but it is faster to check them in the form of a set,  so we create a set of the stop words.  We create an empty list to compose the new string.  Once doing that, we loop through the words in the word list and if the word is not in the stop word set, we append the word to the `new_string`.  Finally, we return the joined new string separated by a space between words to form the new sentence without the stop words. "
   ]
  },
  {
   "cell_type": "markdown",
   "metadata": {},
   "source": [
    "### 9. Character mapping "
   ]
  },
  {
   "cell_type": "markdown",
   "metadata": {},
   "source": [
    "Given two strings, string1 and string2, determine if there exists a 1-to-1 mapping between each character of both strings.  "
   ]
  },
  {
   "cell_type": "code",
   "execution_count": 15,
   "metadata": {},
   "outputs": [],
   "source": [
    "def string_map(string1, string2):\n",
    "    if len(string1) != len(string2):\n",
    "        return False\n",
    "    \n",
    "    char_map = {}\n",
    "    for char1, char2 in zip(string1, string2):\n",
    "        if char1 not in char_map:\n",
    "            char_map[char1] = char2\n",
    "        elif char_map[char1] != char2:\n",
    "            return False\n",
    "    return True"
   ]
  },
  {
   "cell_type": "code",
   "execution_count": 16,
   "metadata": {},
   "outputs": [
    {
     "data": {
      "text/plain": [
       "True"
      ]
     },
     "execution_count": 16,
     "metadata": {},
     "output_type": "execute_result"
    }
   ],
   "source": [
    "string_map('qwe', 'asd')"
   ]
  },
  {
   "cell_type": "markdown",
   "metadata": {},
   "source": [
    "In order for there to be a 1-to-1 mapping between the two strings, each character of one string must uniquely map to a character of the second string.  As a first check, if the strings are not the same length, this obviously must evaluate as `False`.  Once we check that, we create a charater dictionary to store our characters.  We zip the strings and loop through the zipped tuple.  If `char1` from `string1` isn't in the dictionary, we turn it into a key with `char2` as the value.  If the key stored for `char1` does not match the value of `char2`, we return `False`.  "
   ]
  },
  {
   "cell_type": "markdown",
   "metadata": {},
   "source": [
    "### 10. Shuffled characters "
   ]
  },
  {
   "cell_type": "markdown",
   "metadata": {},
   "source": [
    "Given two strings, string1 and string2, return whether string1 can be shuffled some number of times to get string2. "
   ]
  },
  {
   "cell_type": "code",
   "execution_count": 17,
   "metadata": {},
   "outputs": [],
   "source": [
    "def can_shift(string1, string2):\n",
    "    if len(string1) == len(string2):\n",
    "        buffer_string = string1 + string1\n",
    "        return string2 in buffer_string\n",
    "    else:\n",
    "        return False"
   ]
  },
  {
   "cell_type": "code",
   "execution_count": 18,
   "metadata": {},
   "outputs": [
    {
     "data": {
      "text/plain": [
       "True"
      ]
     },
     "execution_count": 18,
     "metadata": {},
     "output_type": "execute_result"
    }
   ],
   "source": [
    "can_shift('abcde', 'cdeab')"
   ]
  },
  {
   "cell_type": "markdown",
   "metadata": {},
   "source": [
    "This problem is suprisingly simple.  First, we need the lengths of `string1` and `string2` to match if we can even shift them at all.  So we check that first.  If they are the same length, we create a `buffer_string` by adding `string1` twice.  This way, any string shift must be captured somewhere within `buffer_string`.  If `string2` is contained somewhere within `buffer_string`, we can check by simply using `in`.  Otherwise, we return `False`. "
   ]
  },
  {
   "cell_type": "markdown",
   "metadata": {},
   "source": [
    "### 11. Find duplicates "
   ]
  },
  {
   "cell_type": "markdown",
   "metadata": {},
   "source": [
    "Given a sentence string, find the first duplicate word.  If there are no duplicates, return None. "
   ]
  },
  {
   "cell_type": "code",
   "execution_count": 19,
   "metadata": {},
   "outputs": [],
   "source": [
    "def find_duplicates(string1):\n",
    "    import re\n",
    "    clean_str = re.sub('[^a-zA-Z -]', '', string1)\n",
    "    words = clean_str.lower().split(' ')\n",
    "    seen_words = set()\n",
    "    for word in words: \n",
    "        if word in seen_words:\n",
    "            return word\n",
    "        else:\n",
    "            seen_words.add(word)\n",
    "    return None "
   ]
  },
  {
   "cell_type": "code",
   "execution_count": 20,
   "metadata": {},
   "outputs": [
    {
     "data": {
      "text/plain": [
       "'wonder'"
      ]
     },
     "execution_count": 20,
     "metadata": {},
     "output_type": "execute_result"
    }
   ],
   "source": [
    "find_duplicates('This is just a wonder, wonder why do I have this in mind.')"
   ]
  },
  {
   "cell_type": "markdown",
   "metadata": {},
   "source": [
    "### 12. Defanging an IP address"
   ]
  },
  {
   "cell_type": "markdown",
   "metadata": {},
   "source": [
    "Given a valid (IPv4) IP address, return a defanged version of that IP address. A defanged IP address replaces every period “.” with “[.]”."
   ]
  },
  {
   "cell_type": "code",
   "execution_count": 21,
   "metadata": {},
   "outputs": [],
   "source": [
    "def defanged_ip(address):\n",
    "    return address.replace('.', '[.]')"
   ]
  },
  {
   "cell_type": "code",
   "execution_count": 22,
   "metadata": {},
   "outputs": [
    {
     "data": {
      "text/plain": [
       "'1[.]1[.]1[.]1'"
      ]
     },
     "execution_count": 22,
     "metadata": {},
     "output_type": "execute_result"
    }
   ],
   "source": [
    "defanged_ip('1.1.1.1')"
   ]
  },
  {
   "cell_type": "markdown",
   "metadata": {},
   "source": [
    "This is a simple problem, maybe more of a warmup.  If we are given a string in Python, we can replace any occurrence of a value in the string with another one by using `string.replce(value_to_replce, replacement)` where the first argument is the value we want to replace, and the second is what we want to replace it with.  Since strings are immutable in Python, we are technically creating a new string in memory rather than replacing the old one: "
   ]
  },
  {
   "cell_type": "code",
   "execution_count": 23,
   "metadata": {},
   "outputs": [
    {
     "name": "stdout",
     "output_type": "stream",
     "text": [
      "4568138896\n",
      "4568139536\n"
     ]
    }
   ],
   "source": [
    "string1 = 'address@address.com'\n",
    "print(id(string1))\n",
    "\n",
    "print(id(string1.replace('.', '[.]')))"
   ]
  },
  {
   "cell_type": "markdown",
   "metadata": {},
   "source": [
    "### 13. Palindrome number "
   ]
  },
  {
   "cell_type": "markdown",
   "metadata": {},
   "source": [
    "Identity all words that are palindromes in the following sentence “To be or not to be a data scientist, this is not a question. Ask your mom, lol.”  If the same word appears multiple times, return the word once. "
   ]
  },
  {
   "cell_type": "code",
   "execution_count": 24,
   "metadata": {},
   "outputs": [],
   "source": [
    "def palindromes(string1):\n",
    "    import re\n",
    "    clean_str = re.sub('[^a-zA-z -]', '', string1)\n",
    "    words = clean_str.lower().split()\n",
    "    palindrome_list = []\n",
    "    for word in words: \n",
    "        if word == word[::-1]:\n",
    "            palindrome_list.append(word)\n",
    "    return set(palindrome_list)"
   ]
  },
  {
   "cell_type": "code",
   "execution_count": 25,
   "metadata": {},
   "outputs": [
    {
     "data": {
      "text/plain": [
       "{'a', 'lol', 'mom'}"
      ]
     },
     "execution_count": 25,
     "metadata": {},
     "output_type": "execute_result"
    }
   ],
   "source": [
    "palindromes('To be or not to be a data scientist, this is not a question. Ask your mom, lol.')"
   ]
  },
  {
   "cell_type": "markdown",
   "metadata": {},
   "source": [
    "There are multiple ways we can approach this.  We first clean the string, lower, and split it to get a cleaned list `words`.  We then create an empty `palindrome_list`.  We loop through the words in it and if a word is equal to its own reverse, we add the word to the list.  Finally, we return a set of the words in the list, which will automatically remove any duplicates we have.  Another approach instead of using a set would be to add an `and` statement with `if` to check whether the word is in `palindrome_list` already and append the word only if it isn't, but either approach works.  "
   ]
  },
  {
   "cell_type": "markdown",
   "metadata": {},
   "source": [
    "### 14. First unique character "
   ]
  },
  {
   "cell_type": "markdown",
   "metadata": {},
   "source": [
    "Given a string, find the first non-repeating character in it and return its index. If it doesn’t exist, return -1."
   ]
  },
  {
   "cell_type": "code",
   "execution_count": 26,
   "metadata": {},
   "outputs": [],
   "source": [
    "def first_unique_char(string1):\n",
    "    for i in range(len(string1)):\n",
    "        c = string1[i]\n",
    "        if string1.count(c) == 1:\n",
    "            return i \n",
    "    return -1"
   ]
  },
  {
   "cell_type": "code",
   "execution_count": 27,
   "metadata": {},
   "outputs": [
    {
     "data": {
      "text/plain": [
       "0"
      ]
     },
     "execution_count": 27,
     "metadata": {},
     "output_type": "execute_result"
    }
   ],
   "source": [
    "first_unique_char('I am a data scientst.')"
   ]
  },
  {
   "cell_type": "markdown",
   "metadata": {},
   "source": [
    "### 15. Middle three characters"
   ]
  },
  {
   "cell_type": "markdown",
   "metadata": {},
   "source": [
    "Given a string of odd length greater 7, return a string made of the middle three chars of a given String"
   ]
  },
  {
   "cell_type": "code",
   "execution_count": 28,
   "metadata": {},
   "outputs": [],
   "source": [
    "def middle_three_chars(string1):\n",
    "    middle_index = int(len(string1) / 2)\n",
    "    return string1[middle_index -1 : middle_index + 2]"
   ]
  },
  {
   "cell_type": "code",
   "execution_count": 29,
   "metadata": {},
   "outputs": [
    {
     "data": {
      "text/plain": [
       "'xam'"
      ]
     },
     "execution_count": 29,
     "metadata": {},
     "output_type": "execute_result"
    }
   ],
   "source": [
    "middle_three_chars('This is an example sentence')"
   ]
  },
  {
   "cell_type": "markdown",
   "metadata": {},
   "source": [
    "The idea here is to save the middle index of the string and convert it to an integer since it will be a float given that the length is odd.  We then return the string spliced with the first index starting at one minus the middle, and the second going 2 above the middle, since slicing the higher end goes one above the desired index. "
   ]
  },
  {
   "cell_type": "markdown",
   "metadata": {},
   "source": [
    "### 16. Append to middle "
   ]
  },
  {
   "cell_type": "markdown",
   "metadata": {},
   "source": [
    "Given 2 strings, string1 and string2, create a new string by appending string2 in the middle of string1. "
   ]
  },
  {
   "cell_type": "code",
   "execution_count": 30,
   "metadata": {},
   "outputs": [],
   "source": [
    "def append_to_middle(string1, string2):\n",
    "    middle_index = int(len(string1) / 2)\n",
    "    return string1[:middle_index] + string2 + string1[middle_index:]"
   ]
  },
  {
   "cell_type": "code",
   "execution_count": 31,
   "metadata": {},
   "outputs": [
    {
     "data": {
      "text/plain": [
       "'This is thisa string'"
      ]
     },
     "execution_count": 31,
     "metadata": {},
     "output_type": "execute_result"
    }
   ],
   "source": [
    "append_to_middle('This is a string', 'this')"
   ]
  },
  {
   "cell_type": "markdown",
   "metadata": {},
   "source": [
    "### 17. First, middle, last"
   ]
  },
  {
   "cell_type": "markdown",
   "metadata": {},
   "source": [
    "Given two strings, string1 and string2, return a new string made of the first, middle and last char each input string."
   ]
  },
  {
   "cell_type": "code",
   "execution_count": 32,
   "metadata": {},
   "outputs": [],
   "source": [
    "def first_middle_last(string1, string2):\n",
    "    middle_index1 = int(len(string1) / 2)\n",
    "    middle_index2 = int(len(string2) / 2)\n",
    "    new_string = string1[0] + string2[0] + string1[middle_index1] + string2[middle_index2] + string1[-1] + string2[-1]\n",
    "    return new_string"
   ]
  },
  {
   "cell_type": "code",
   "execution_count": 33,
   "metadata": {},
   "outputs": [
    {
     "data": {
      "text/plain": [
       "'AJrpan'"
      ]
     },
     "execution_count": 33,
     "metadata": {},
     "output_type": "execute_result"
    }
   ],
   "source": [
    "first_middle_last('America', 'Japan')"
   ]
  },
  {
   "cell_type": "markdown",
   "metadata": {},
   "source": [
    "### 18. Lowercase first"
   ]
  },
  {
   "cell_type": "markdown",
   "metadata": {},
   "source": [
    "Given an input string with the combination of the lower and upper case arrange characters in such a way that all lowercase letters should come first."
   ]
  },
  {
   "cell_type": "code",
   "execution_count": 34,
   "metadata": {},
   "outputs": [],
   "source": [
    "def lowercase_first(string1):\n",
    "    lower_chars = []\n",
    "    upper_chars = []\n",
    "    for i in string1: \n",
    "        if i.islower():\n",
    "            lower_chars.append(i)\n",
    "        else:\n",
    "            upper_chars.append(i)\n",
    "    return ''.join(lower_chars + upper_chars)"
   ]
  },
  {
   "cell_type": "code",
   "execution_count": 35,
   "metadata": {},
   "outputs": [
    {
     "data": {
      "text/plain": [
       "'bdfACEG'"
      ]
     },
     "execution_count": 35,
     "metadata": {},
     "output_type": "execute_result"
    }
   ],
   "source": [
    "lowercase_first('AbCdEfG')"
   ]
  },
  {
   "cell_type": "markdown",
   "metadata": {},
   "source": [
    "In this problem , we just need to loop through `string1` and check whether each character is lowercase or not.  If it is, we append to `lower_chars` and otherwise, to `upper_chars`.  Finally, we join the characters and return them together as one string. "
   ]
  },
  {
   "cell_type": "markdown",
   "metadata": {},
   "source": [
    "### 19. Find all occurrences "
   ]
  },
  {
   "cell_type": "markdown",
   "metadata": {},
   "source": [
    "Find all occurrences of a given pattern in a given string, ignoring the case. "
   ]
  },
  {
   "cell_type": "code",
   "execution_count": 36,
   "metadata": {},
   "outputs": [],
   "source": [
    "def find_occurrences(pattern, string1):\n",
    "    lower_str = string1.lower()\n",
    "    return lower_str.count(pattern.lower())"
   ]
  },
  {
   "cell_type": "code",
   "execution_count": 37,
   "metadata": {},
   "outputs": [
    {
     "data": {
      "text/plain": [
       "2"
      ]
     },
     "execution_count": 37,
     "metadata": {},
     "output_type": "execute_result"
    }
   ],
   "source": [
    "find_occurrences('USA', 'Welcome to USA. usa awesome, isnt it?')"
   ]
  },
  {
   "cell_type": "markdown",
   "metadata": {},
   "source": [
    "When working with strings, we can use `string.count(some_pattern)` to count the number of occurrences of some pattern within a given string.  We get back an integer number of counts of the pattern contained in the string.  "
   ]
  },
  {
   "cell_type": "markdown",
   "metadata": {},
   "source": [
    "### 20. Anagrams "
   ]
  },
  {
   "cell_type": "markdown",
   "metadata": {},
   "source": [
    "Determine whether or not two strings are anagrams of each other.  "
   ]
  },
  {
   "cell_type": "code",
   "execution_count": 38,
   "metadata": {},
   "outputs": [],
   "source": [
    "from collections import Counter\n",
    "def anagrams(string1, string2):\n",
    "    def get_counter(s):\n",
    "        return Counter(s.replace(\" \", \"\").lower())\n",
    "\n",
    "    return get_counter(string1) == get_counter(string2)"
   ]
  },
  {
   "cell_type": "code",
   "execution_count": 39,
   "metadata": {},
   "outputs": [
    {
     "data": {
      "text/plain": [
       "True"
      ]
     },
     "execution_count": 39,
     "metadata": {},
     "output_type": "execute_result"
    }
   ],
   "source": [
    "anagrams('chase', 'esach')"
   ]
  },
  {
   "cell_type": "markdown",
   "metadata": {},
   "source": [
    "In this solution, we use `Counter` to count each character within both strings.  We write a sub-function within the `anagrams` function to implement `Counter` on the given string, and remove the blank spaces and lower all letters. We then return if the `Counter` for `string1` is equal to that for `string2`.  "
   ]
  },
  {
   "cell_type": "markdown",
   "metadata": {},
   "source": [
    "### 21. Scraped IDs"
   ]
  },
  {
   "cell_type": "markdown",
   "metadata": {},
   "source": [
    "Given a list of existing ids that have been scraped, and two other lists containing the names and URLs corresponding to each other, return the names and ids that we have not scraped yet.  \n",
    "\n",
    "For example: \n",
    "\n",
    "existing_ids = [15234, 20485, 34563, 95342, 94857] \n",
    "\n",
    "names = ['Calvin', 'Jason', 'Cindy', 'Kevin']\n",
    "\n",
    "urls = ['domain.com/15234', ]"
   ]
  },
  {
   "cell_type": "code",
   "execution_count": 40,
   "metadata": {},
   "outputs": [],
   "source": [
    "def not_yet_scraped(existing_ids, names, urls):\n",
    "    named_urls = list(zip(names, urls))\n",
    "    id_set = set(existing_ids)\n",
    "    new_vals = []\n",
    "    \n",
    "    for tup in named_urls:\n",
    "        user_id = int(tup[1].split('/')[1])\n",
    "        if user_id not in id_set: \n",
    "            id_set.add(user_id)\n",
    "            new_vals.append((tup[0], user_id))\n",
    "    return new_vals"
   ]
  },
  {
   "cell_type": "code",
   "execution_count": 41,
   "metadata": {},
   "outputs": [],
   "source": [
    "ids = [15234, 20485, 34563, 95342, 94857]\n",
    "names = ['Calvin', 'Jason', 'Cindy', 'Kevin', 'Britney']\n",
    "urls = ['domain.com/15234', 'domain.com/12345', 'domain.com/34563', 'domain.com/95342', 'domain.com/23232']"
   ]
  },
  {
   "cell_type": "code",
   "execution_count": 42,
   "metadata": {},
   "outputs": [
    {
     "data": {
      "text/plain": [
       "[('Jason', 12345), ('Britney', 23232)]"
      ]
     },
     "execution_count": 42,
     "metadata": {},
     "output_type": "execute_result"
    }
   ],
   "source": [
    "not_yet_scraped(ids, names, urls)"
   ]
  },
  {
   "cell_type": "markdown",
   "metadata": {},
   "source": [
    "In this problem, we have three lists that we are given: `existing_ids`, `names`, and `urls`.  We want to figure out which names and ids have not yet been scraped.  We first can zip together the names and urls, since we know that these must match with each other.  We save these in a list as tuples.  We create an id set out of `existing_ids` which we will use to check the scraped ids.  We create an empty list to store our returned values. \n",
    "\n",
    "We now loop through each tuple in `named_urls` containing our zipped values.  For each tuple, we store the `user_id`, converted to an integer, but splitting the tuple on the `/` mark and saving the number.  We then take the saved `user_id` and check whether it is in our `id_set` or not.  If it isn't, we add it to the set and append the name of the person and the id to the `new_vals` list.  Finally, we turn `new_vals`.  "
   ]
  }
 ],
 "metadata": {
  "kernelspec": {
   "display_name": "Python 3",
   "language": "python",
   "name": "python3"
  },
  "language_info": {
   "codemirror_mode": {
    "name": "ipython",
    "version": 3
   },
   "file_extension": ".py",
   "mimetype": "text/x-python",
   "name": "python",
   "nbconvert_exporter": "python",
   "pygments_lexer": "ipython3",
   "version": "3.7.4"
  }
 },
 "nbformat": 4,
 "nbformat_minor": 2
}

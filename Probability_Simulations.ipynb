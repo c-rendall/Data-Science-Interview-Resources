{
 "cells": [
  {
   "cell_type": "code",
   "execution_count": 90,
   "metadata": {},
   "outputs": [],
   "source": [
    "import random\n",
    "import numpy as np\n",
    "import matplotlib.pyplot as plt"
   ]
  },
  {
   "cell_type": "markdown",
   "metadata": {},
   "source": [
    "This notebook contains solutions to various probability problems that we are able to simulate using `NumPy` and the `random` module. "
   ]
  },
  {
   "cell_type": "markdown",
   "metadata": {},
   "source": [
    "### 1. Rolling two dice"
   ]
  },
  {
   "cell_type": "markdown",
   "metadata": {},
   "source": [
    "Two unbiased dice are thrown once and the total score is observed. Use a simulation to find the estimated probability that the total score is even or greater than 7?"
   ]
  },
  {
   "cell_type": "code",
   "execution_count": 65,
   "metadata": {},
   "outputs": [],
   "source": [
    "def dice_rolls(n_simulations = 100000):\n",
    "    count = 0\n",
    "    for i in range(n_simulations):\n",
    "        die1 = np.random.randint(1, 7)\n",
    "        die2 = np.random.randint(1, 7)\n",
    "        score = die1 + die2\n",
    "        if score > 7 or score % 2 == 0:\n",
    "            count += 1\n",
    "    return count / n_simulations"
   ]
  },
  {
   "cell_type": "code",
   "execution_count": 66,
   "metadata": {},
   "outputs": [
    {
     "data": {
      "text/plain": [
       "0.66571"
      ]
     },
     "execution_count": 66,
     "metadata": {},
     "output_type": "execute_result"
    }
   ],
   "source": [
    "dice_rolls()"
   ]
  },
  {
   "cell_type": "markdown",
   "metadata": {},
   "source": [
    "In this problem, we first initialize a count to 0, since we need to record how many rolls meet our condition.  We define `n_simulations` in the argument to equal 100,000, so we loop through the number of simulations we have set.  We use NumPy to simulate two dice rolls and make them a random integer between 1 and 6.  We add the two rolls together and if the score meets our conditions, add one to the count.  Finally, we return the total count divided by the number of simulations to get our probability. "
   ]
  },
  {
   "cell_type": "markdown",
   "metadata": {},
   "source": [
    "### 2. Balls in an urn "
   ]
  },
  {
   "cell_type": "markdown",
   "metadata": {},
   "source": [
    "An urn contains 10 white balls, 20 reds and 30 greens. Draw 5 balls with replacement.  What is the probability of:\n",
    "\n",
    "a. drawing two white and three red?\n",
    "\n",
    "b. all five are the same color? "
   ]
  },
  {
   "cell_type": "code",
   "execution_count": 40,
   "metadata": {},
   "outputs": [],
   "source": [
    "from collections import Counter \n",
    "def two_white_three_red(n_simulations=1000000):\n",
    "    count = 0\n",
    "    urn = ['w'] * 10 + ['r'] * 20 + ['g'] * 30\n",
    "    for i in range(n_simulations):\n",
    "        draw = Counter(np.random.choice(urn, replace=True, size=5))\n",
    "        if draw['w'] == 2 and draw['r'] == 3:\n",
    "            count += 1\n",
    "    return count / n_simulations "
   ]
  },
  {
   "cell_type": "code",
   "execution_count": 41,
   "metadata": {},
   "outputs": [
    {
     "data": {
      "text/plain": [
       "0.010363"
      ]
     },
     "execution_count": 41,
     "metadata": {},
     "output_type": "execute_result"
    }
   ],
   "source": [
    "two_white_three_red()"
   ]
  },
  {
   "cell_type": "code",
   "execution_count": 34,
   "metadata": {},
   "outputs": [],
   "source": [
    "from collections import Counter \n",
    "def same_color(n_simulations=100000):\n",
    "    count = 0\n",
    "    urn = ['w'] * 10 + ['r'] * 20 + ['g'] * 30\n",
    "    for i in range(n_simulations):\n",
    "        draw = Counter(np.random.choice(urn, replace=True, size=5))\n",
    "        if draw['w'] == 5 or draw['r'] == 5 or draw['g'] == 5:\n",
    "            count += 1\n",
    "    return count / n_simulations "
   ]
  },
  {
   "cell_type": "code",
   "execution_count": 35,
   "metadata": {},
   "outputs": [
    {
     "data": {
      "text/plain": [
       "0.03649"
      ]
     },
     "execution_count": 35,
     "metadata": {},
     "output_type": "execute_result"
    }
   ],
   "source": [
    "same_color()"
   ]
  },
  {
   "cell_type": "markdown",
   "metadata": {},
   "source": [
    "### 3. Two of the same number "
   ]
  },
  {
   "cell_type": "markdown",
   "metadata": {},
   "source": [
    "Suppose you have two six-sided standard dice and you win a prize if the dice show the same number.  Write a program to simulate what the probability of winning would be. "
   ]
  },
  {
   "cell_type": "code",
   "execution_count": 67,
   "metadata": {},
   "outputs": [],
   "source": [
    "def two_numbers(n_simulations=100000):\n",
    "    count = 0\n",
    "    for i in range(n_simulations):\n",
    "        die1 = np.random.randint(1, 7)\n",
    "        die2 = np.random.randint(1, 7)\n",
    "        if die1 == die2:\n",
    "            count += 1\n",
    "    return count / n_simulations"
   ]
  },
  {
   "cell_type": "code",
   "execution_count": 68,
   "metadata": {},
   "outputs": [
    {
     "data": {
      "text/plain": [
       "0.16535"
      ]
     },
     "execution_count": 68,
     "metadata": {},
     "output_type": "execute_result"
    }
   ],
   "source": [
    "two_numbers()"
   ]
  },
  {
   "cell_type": "markdown",
   "metadata": {},
   "source": [
    "In this problem, much like with the first problem, we initialize a count to zero.  We loop through the number of simulations and roll two dice.  If the dice are equal, we increment the count by one.  Finally, we return the count divided by the total number of simulations.  Since there are only 36 total combinations with two six-sided dice, only six of those will be matching, for a probability of 0.167 "
   ]
  },
  {
   "cell_type": "markdown",
   "metadata": {},
   "source": [
    "### 4. Lottery payoff"
   ]
  },
  {
   "cell_type": "markdown",
   "metadata": {},
   "source": [
    "Suppose there is a lottery with a \\\\$1,000,000 jackpot and a total of 1,000,000 tickets bought with no more allowed.  Each ticket costs $5.  Write a function to determine the expected payoff for each lottery ticket.  "
   ]
  },
  {
   "cell_type": "code",
   "execution_count": 25,
   "metadata": {},
   "outputs": [],
   "source": [
    "def expected_payoff():\n",
    "    num_sims=10000000\n",
    "    ticket_cost = 5\n",
    "    num_tickets = 1000000\n",
    "    jackpot = 1000000\n",
    "    win_pct = 1 / num_tickets\n",
    "    payoffs = [-ticket_cost, jackpot-ticket_cost]\n",
    "    probs = [1-win_pct, win_pct]\n",
    "    \n",
    "    outcomes = np.random.choice(a=payoffs, size=num_sims, p=probs, replace=True)\n",
    "    return outcomes.mean()"
   ]
  },
  {
   "cell_type": "code",
   "execution_count": 27,
   "metadata": {},
   "outputs": [
    {
     "data": {
      "text/plain": [
       "(array([ 2.,  5.,  6., 27., 13., 20., 17.,  3.,  5.,  2.]),\n",
       " array([-4.8 , -4.64, -4.48, -4.32, -4.16, -4.  , -3.84, -3.68, -3.52,\n",
       "        -3.36, -3.2 ]),\n",
       " <a list of 10 Patch objects>)"
      ]
     },
     "execution_count": 27,
     "metadata": {},
     "output_type": "execute_result"
    },
    {
     "data": {
      "image/png": "[encoded data removed]",
      "text/plain": [
       "<Figure size 432x288 with 1 Axes>"
      ]
     },
     "metadata": {
      "needs_background": "light"
     },
     "output_type": "display_data"
    }
   ],
   "source": [
    "n_sims = 100\n",
    "outcomes = []\n",
    "for i in range(n_sims):\n",
    "    outcomes.append(expected_payoff())\n",
    "plt.hist(outcomes)"
   ]
  },
  {
   "cell_type": "code",
   "execution_count": 29,
   "metadata": {},
   "outputs": [
    {
     "data": {
      "text/plain": [
       "-4.04"
      ]
     },
     "execution_count": 29,
     "metadata": {},
     "output_type": "execute_result"
    }
   ],
   "source": [
    "sum(outcomes) / len(outcomes)"
   ]
  },
  {
   "cell_type": "markdown",
   "metadata": {},
   "source": [
    "So we see that for a \\\\$5 ticket, we expect to lose about $4.  "
   ]
  },
  {
   "cell_type": "markdown",
   "metadata": {},
   "source": [
    "### 5. Birthday problem "
   ]
  },
  {
   "cell_type": "markdown",
   "metadata": {},
   "source": [
    "How many people do we need in a room to ensure that there is 80% chance so that two of the people share the same birthday? "
   ]
  },
  {
   "cell_type": "code",
   "execution_count": null,
   "metadata": {},
   "outputs": [],
   "source": []
  },
  {
   "cell_type": "markdown",
   "metadata": {},
   "source": [
    "### 6. Monty Hall problem "
   ]
  },
  {
   "cell_type": "markdown",
   "metadata": {},
   "source": [
    "You’re on a gameshow with Monty Hall. There are three doors in front of you, two have goats behind them and one has a car. After you pick a door, Monty opens another door, revealing a goat. He then gives you the option of switching. Should you switch?"
   ]
  },
  {
   "cell_type": "code",
   "execution_count": 91,
   "metadata": {},
   "outputs": [],
   "source": [
    "def monty_hall(n_simulations=100000):\n",
    "    stay_results = []\n",
    "    switch_results = []\n",
    "    for i in range(n_simulations):\n",
    "        doors = ['car', 'goat', 'goat']\n",
    "        random.shuffle(doors)\n",
    "        door_index = random.choice([0, 1, 2])\n",
    "        stay_result = doors.pop(door_index)\n",
    "        doors.remove('goat')\n",
    "        switch_result = doors[0]\n",
    "        stay_results.append(stay_result)\n",
    "        switch_results.append(switch_result)\n",
    "    stay_pct = stay_results.count('car') / n_simulations\n",
    "    switch_pct = switch_results.count('car') / n_simulations\n",
    "    print(f'Stay results: {stay_pct}')\n",
    "    print(f'Switch results: {switch_pct}')"
   ]
  },
  {
   "cell_type": "code",
   "execution_count": 86,
   "metadata": {},
   "outputs": [
    {
     "name": "stdout",
     "output_type": "stream",
     "text": [
      "Stay results: 0.3345\n",
      "Switch results: 0.6655\n"
     ]
    }
   ],
   "source": [
    "monty_hall()"
   ]
  },
  {
   "cell_type": "markdown",
   "metadata": {},
   "source": [
    "In this problem, we create two empty lists for our stay and switch results.  We loop through the number of simulations and create a list containing the items behind each of the three doors.  We shuffle the doors and select a door at random.  For whichever door we choose, we use `pop` to remove the index from the list and save it as `stay_result`.  According to the prompt, Monty reveals that a goat is behind one of the two remaining doors after we have picked our door.  So we use `remove()` to remove a goat from `doors`.  We now have only one remaining door, `door[0]`, which is the result of us switching.  We save the results of save and the results of switch and count how many times `car` showed up in each.  As we see from the results, switching results in a 2-to-1 favorite for winning the car. "
   ]
  },
  {
   "cell_type": "markdown",
   "metadata": {},
   "source": [
    "### 7. Three girls "
   ]
  },
  {
   "cell_type": "markdown",
   "metadata": {},
   "source": [
    "If there is a family of four children, what is the chance that family will consist of exactly three girls and one boy?"
   ]
  },
  {
   "cell_type": "code",
   "execution_count": 104,
   "metadata": {},
   "outputs": [],
   "source": [
    "def three_girls(n_simulations=100000):\n",
    "    gender = ['M', 'F']\n",
    "    girls_count = 0\n",
    "    for i in range(n_simulations):\n",
    "        kids = random.choices(gender, 4)\n",
    "        if kids.count('F') == 3:\n",
    "            girls_count += 1\n",
    "    return girls_count / n_simulations"
   ]
  },
  {
   "cell_type": "code",
   "execution_count": 105,
   "metadata": {},
   "outputs": [
    {
     "ename": "TypeError",
     "evalue": "'int' object is not iterable",
     "output_type": "error",
     "traceback": [
      "\u001b[0;31m---------------------------------------------------------------------------\u001b[0m",
      "\u001b[0;31mTypeError\u001b[0m                                 Traceback (most recent call last)",
      "\u001b[0;32m<ipython-input-105-e1d446cd5c72>\u001b[0m in \u001b[0;36m<module>\u001b[0;34m\u001b[0m\n\u001b[0;32m----> 1\u001b[0;31m \u001b[0mthree_girls\u001b[0m\u001b[0;34m(\u001b[0m\u001b[0;34m)\u001b[0m\u001b[0;34m\u001b[0m\u001b[0;34m\u001b[0m\u001b[0m\n\u001b[0m",
      "\u001b[0;32m<ipython-input-104-b8aedc6bf83d>\u001b[0m in \u001b[0;36mthree_girls\u001b[0;34m(n_simulations)\u001b[0m\n\u001b[1;32m      3\u001b[0m     \u001b[0mgirls_count\u001b[0m \u001b[0;34m=\u001b[0m \u001b[0;36m0\u001b[0m\u001b[0;34m\u001b[0m\u001b[0;34m\u001b[0m\u001b[0m\n\u001b[1;32m      4\u001b[0m     \u001b[0;32mfor\u001b[0m \u001b[0mi\u001b[0m \u001b[0;32min\u001b[0m \u001b[0mrange\u001b[0m\u001b[0;34m(\u001b[0m\u001b[0mn_simulations\u001b[0m\u001b[0;34m)\u001b[0m\u001b[0;34m:\u001b[0m\u001b[0;34m\u001b[0m\u001b[0;34m\u001b[0m\u001b[0m\n\u001b[0;32m----> 5\u001b[0;31m         \u001b[0mkids\u001b[0m \u001b[0;34m=\u001b[0m \u001b[0mrandom\u001b[0m\u001b[0;34m.\u001b[0m\u001b[0mchoices\u001b[0m\u001b[0;34m(\u001b[0m\u001b[0mgender\u001b[0m\u001b[0;34m,\u001b[0m \u001b[0;36m4\u001b[0m\u001b[0;34m)\u001b[0m\u001b[0;34m\u001b[0m\u001b[0;34m\u001b[0m\u001b[0m\n\u001b[0m\u001b[1;32m      6\u001b[0m         \u001b[0;32mif\u001b[0m \u001b[0mkids\u001b[0m\u001b[0;34m.\u001b[0m\u001b[0mcount\u001b[0m\u001b[0;34m(\u001b[0m\u001b[0;34m'F'\u001b[0m\u001b[0;34m)\u001b[0m \u001b[0;34m==\u001b[0m \u001b[0;36m3\u001b[0m\u001b[0;34m:\u001b[0m\u001b[0;34m\u001b[0m\u001b[0;34m\u001b[0m\u001b[0m\n\u001b[1;32m      7\u001b[0m             \u001b[0mgirls_count\u001b[0m \u001b[0;34m+=\u001b[0m \u001b[0;36m1\u001b[0m\u001b[0;34m\u001b[0m\u001b[0;34m\u001b[0m\u001b[0m\n",
      "\u001b[0;32m/opt/anaconda3/lib/python3.7/random.py\u001b[0m in \u001b[0;36mchoices\u001b[0;34m(self, population, weights, cum_weights, k)\u001b[0m\n\u001b[1;32m    355\u001b[0m                 \u001b[0mtotal\u001b[0m \u001b[0;34m=\u001b[0m \u001b[0mlen\u001b[0m\u001b[0;34m(\u001b[0m\u001b[0mpopulation\u001b[0m\u001b[0;34m)\u001b[0m\u001b[0;34m\u001b[0m\u001b[0;34m\u001b[0m\u001b[0m\n\u001b[1;32m    356\u001b[0m                 \u001b[0;32mreturn\u001b[0m \u001b[0;34m[\u001b[0m\u001b[0mpopulation\u001b[0m\u001b[0;34m[\u001b[0m\u001b[0m_int\u001b[0m\u001b[0;34m(\u001b[0m\u001b[0mrandom\u001b[0m\u001b[0;34m(\u001b[0m\u001b[0;34m)\u001b[0m \u001b[0;34m*\u001b[0m \u001b[0mtotal\u001b[0m\u001b[0;34m)\u001b[0m\u001b[0;34m]\u001b[0m \u001b[0;32mfor\u001b[0m \u001b[0mi\u001b[0m \u001b[0;32min\u001b[0m \u001b[0mrange\u001b[0m\u001b[0;34m(\u001b[0m\u001b[0mk\u001b[0m\u001b[0;34m)\u001b[0m\u001b[0;34m]\u001b[0m\u001b[0;34m\u001b[0m\u001b[0;34m\u001b[0m\u001b[0m\n\u001b[0;32m--> 357\u001b[0;31m             \u001b[0mcum_weights\u001b[0m \u001b[0;34m=\u001b[0m \u001b[0mlist\u001b[0m\u001b[0;34m(\u001b[0m\u001b[0m_itertools\u001b[0m\u001b[0;34m.\u001b[0m\u001b[0maccumulate\u001b[0m\u001b[0;34m(\u001b[0m\u001b[0mweights\u001b[0m\u001b[0;34m)\u001b[0m\u001b[0;34m)\u001b[0m\u001b[0;34m\u001b[0m\u001b[0;34m\u001b[0m\u001b[0m\n\u001b[0m\u001b[1;32m    358\u001b[0m         \u001b[0;32melif\u001b[0m \u001b[0mweights\u001b[0m \u001b[0;32mis\u001b[0m \u001b[0;32mnot\u001b[0m \u001b[0;32mNone\u001b[0m\u001b[0;34m:\u001b[0m\u001b[0;34m\u001b[0m\u001b[0;34m\u001b[0m\u001b[0m\n\u001b[1;32m    359\u001b[0m             \u001b[0;32mraise\u001b[0m \u001b[0mTypeError\u001b[0m\u001b[0;34m(\u001b[0m\u001b[0;34m'Cannot specify both weights and cumulative weights'\u001b[0m\u001b[0;34m)\u001b[0m\u001b[0;34m\u001b[0m\u001b[0;34m\u001b[0m\u001b[0m\n",
      "\u001b[0;31mTypeError\u001b[0m: 'int' object is not iterable"
     ]
    }
   ],
   "source": [
    "three_girls()"
   ]
  },
  {
   "cell_type": "markdown",
   "metadata": {},
   "source": [
    "### 8. Wardrobe selection "
   ]
  },
  {
   "cell_type": "markdown",
   "metadata": {},
   "source": [
    "Suppose Charlie has 3 pairs of shoes, 4 different coats, and 2 different pants to wear in his wardrobe. Of those items, Charlie has exactly one pair of white shoes, exactly one black coat, and exactly one pair of khaki pants. If Charlie selects each item of his wardrobe at random, what is the probability that he will wear the white shoes, black coat, and khaki pants?"
   ]
  },
  {
   "cell_type": "code",
   "execution_count": null,
   "metadata": {},
   "outputs": [],
   "source": [
    "def wardrobe():\n",
    "    "
   ]
  }
 ],
 "metadata": {
  "kernelspec": {
   "display_name": "Python 3",
   "language": "python",
   "name": "python3"
  },
  "language_info": {
   "codemirror_mode": {
    "name": "ipython",
    "version": 3
   },
   "file_extension": ".py",
   "mimetype": "text/x-python",
   "name": "python",
   "nbconvert_exporter": "python",
   "pygments_lexer": "ipython3",
   "version": "3.7.4"
  }
 },
 "nbformat": 4,
 "nbformat_minor": 2
}
